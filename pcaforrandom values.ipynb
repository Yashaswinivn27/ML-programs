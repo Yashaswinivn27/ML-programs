{
 "cells": [
  {
   "cell_type": "code",
   "execution_count": 24,
   "id": "fc531f25",
   "metadata": {
    "scrolled": true
   },
   "outputs": [
    {
     "name": "stdout",
     "output_type": "stream",
     "text": [
      "[[0.9569 0.0044 0.6963]\n",
      " [0.9357 0.7135 0.617 ]\n",
      " [0.9375 0.5883 0.9855]\n",
      " [0.4073 0.5973 0.8085]\n",
      " [0.2936 0.2347 0.0377]\n",
      " [0.5809 0.1397 0.8111]\n",
      " [0.9535 0.9513 0.6436]\n",
      " [0.646  0.4049 0.4194]\n",
      " [0.4466 0.0909 0.8908]\n",
      " [0.257  0.1152 0.7924]\n",
      " [0.7608 0.6089 0.8384]\n",
      " [0.1304 0.8224 0.1697]\n",
      " [0.5598 0.4644 0.9423]\n",
      " [0.3059 0.2589 0.5988]\n",
      " [0.8561 0.6043 0.2659]\n",
      " [0.8121 0.4971 0.1958]\n",
      " [0.3724 0.8988 0.9337]\n",
      " [0.6964 0.4927 0.0951]\n",
      " [0.0114 0.7368 0.1463]\n",
      " [0.2293 0.2288 0.1402]\n",
      " [0.9006 0.3911 0.9707]\n",
      " [0.9767 0.3745 0.8373]\n",
      " [0.2168 0.4298 0.4824]\n",
      " [0.4488 0.8231 0.6449]\n",
      " [0.3079 0.5278 0.1181]\n",
      " [0.6723 0.813  0.2148]\n",
      " [0.2025 0.9474 0.6103]\n",
      " [0.5436 0.6763 0.3606]\n",
      " [0.9552 0.8328 0.1895]\n",
      " [0.5563 0.52   0.0719]\n",
      " [0.9209 0.6492 0.8273]\n",
      " [0.385  0.906  0.1911]\n",
      " [0.8881 0.7543 0.3799]\n",
      " [0.3334 0.0218 0.1553]\n",
      " [0.7358 0.6521 0.2342]\n",
      " [0.6563 0.6046 0.6119]\n",
      " [0.2808 0.3095 0.974 ]\n",
      " [0.3649 0.4266 0.6666]\n",
      " [0.5548 0.0095 0.8196]\n",
      " [0.073  0.6076 0.2873]\n",
      " [0.4777 0.8535 0.9486]\n",
      " [0.6944 0.6224 0.961 ]\n",
      " [0.968  0.2956 0.7234]\n",
      " [0.3296 0.8212 0.7866]\n",
      " [0.8065 0.5659 0.1969]\n",
      " [0.1702 0.8268 0.4505]\n",
      " [0.3182 0.3441 0.3859]\n",
      " [0.9984 0.651  0.8535]\n",
      " [0.5648 0.39   0.5376]\n",
      " [0.8973 0.8842 0.0048]\n",
      " [0.8575 0.059  0.116 ]\n",
      " [0.4927 0.7829 0.4268]\n",
      " [0.2456 0.3352 0.5031]\n",
      " [0.2463 0.4591 0.0965]\n",
      " [0.0074 0.2402 0.8211]\n",
      " [0.0331 0.3433 0.8361]\n",
      " [0.9989 0.0433 0.172 ]\n",
      " [0.4758 0.7935 0.2376]\n",
      " [0.063  0.5137 0.8151]\n",
      " [0.8615 0.2264 0.1511]\n",
      " [0.5497 0.937  0.0061]\n",
      " [0.2807 0.7353 0.1749]\n",
      " [0.409  0.0259 0.1297]\n",
      " [0.1373 0.0769 0.0943]\n",
      " [0.5744 0.8042 0.2565]\n",
      " [0.3942 0.5324 0.0319]\n",
      " [0.4853 0.6738 0.2358]\n",
      " [0.6475 0.6511 0.2992]\n",
      " [0.5854 0.3037 0.1898]\n",
      " [0.7201 0.5361 0.1248]\n",
      " [0.7948 0.8669 0.3674]\n",
      " [0.4239 0.1358 0.1881]\n",
      " [0.8447 0.4936 0.6476]\n",
      " [0.5845 0.0786 0.5952]\n",
      " [0.0362 0.7822 0.2729]\n",
      " [0.4139 0.3852 0.1211]\n",
      " [0.0414 0.346  0.8915]\n",
      " [0.6348 0.5745 0.5429]\n",
      " [0.3562 0.2389 0.8982]\n",
      " [0.8548 0.6864 0.6346]\n",
      " [0.8223 0.1577 0.8597]\n",
      " [0.0804 0.8083 0.2138]\n",
      " [0.1318 0.2886 0.0664]\n",
      " [0.7895 0.3407 0.1831]\n",
      " [0.2751 0.236  0.4906]\n",
      " [0.3162 0.3091 0.1541]\n",
      " [0.7557 0.5678 0.336 ]\n",
      " [0.1482 0.4585 0.166 ]\n",
      " [0.8561 0.002  0.0076]\n",
      " [0.6803 0.4528 0.0506]\n",
      " [0.393  0.2928 0.41  ]\n",
      " [0.2078 0.8237 0.2967]\n",
      " [0.248  0.353  0.1624]\n",
      " [0.7385 0.172  0.5759]\n",
      " [0.7    0.7495 0.5695]\n",
      " [0.0383 0.0811 0.8029]\n",
      " [0.9143 0.583  0.8827]\n",
      " [0.8298 0.7588 0.9821]\n",
      " [0.1455 0.5498 0.3407]\n",
      " [0.3959 0.233  0.2291]]\n"
     ]
    }
   ],
   "source": [
    "import numpy as np\n",
    "import matplotlib.pyplot as plt\n",
    "data=np.random.rand(100,3)\n",
    "np.set_printoptions(precision=4,suppress=True)\n",
    "print(data)"
   ]
  },
  {
   "cell_type": "code",
   "execution_count": 25,
   "id": "f7f7201a",
   "metadata": {
    "scrolled": true
   },
   "outputs": [
    {
     "name": "stdout",
     "output_type": "stream",
     "text": [
      "[[ 1.5103 -1.8215  0.7943]\n",
      " [ 1.4372  0.846   0.5366]\n",
      " [ 1.4434  0.3749  1.7338]\n",
      " [-0.3838  0.4088  1.1588]\n",
      " [-0.7755 -0.9552 -1.3455]\n",
      " [ 0.2145 -1.3128  1.1672]\n",
      " [ 1.4986  1.7403  0.6232]\n",
      " [ 0.4389 -0.315  -0.1055]\n",
      " [-0.2484 -1.4963  1.4264]\n",
      " [-0.9018 -1.4047  1.1067]\n",
      " [ 0.8345  0.4523  1.2562]\n",
      " [-1.3383  1.2555 -0.9167]\n",
      " [ 0.1417 -0.0912  1.5936]\n",
      " [-0.7332 -0.8643  0.4775]\n",
      " [ 1.1631  0.435  -0.6041]\n",
      " [ 1.0114  0.0319 -0.8317]\n",
      " [-0.5041  1.543   1.5655]\n",
      " [ 0.6125  0.0151 -1.1592]\n",
      " [-1.7483  0.9335 -0.9926]\n",
      " [-0.9971 -0.9774 -1.0124]\n",
      " [ 1.3163 -0.3671  1.686 ]\n",
      " [ 1.5785 -0.4294  1.2525]\n",
      " [-1.0402 -0.2213  0.0992]\n",
      " [-0.2406  1.2581  0.6272]\n",
      " [-0.7263  0.1474 -1.0843]\n",
      " [ 0.5296  1.22   -0.77  ]\n",
      " [-1.0895  1.7257  0.515 ]\n",
      " [ 0.086   0.7061 -0.2964]\n",
      " [ 1.5047  1.2945 -0.8522]\n",
      " [ 0.1297  0.1181 -1.2343]\n",
      " [ 1.3864  0.6039  1.2199]\n",
      " [-0.4606  1.5701 -0.8471]\n",
      " [ 1.2734  0.9995 -0.2337]\n",
      " [-0.6385 -1.7561 -0.9635]\n",
      " [ 0.7483  0.6147 -0.7071]\n",
      " [ 0.4745  0.4361  0.52  ]\n",
      " [-0.8199 -0.6741  1.6966]\n",
      " [-0.5301 -0.2335  0.6977]\n",
      " [ 0.1245 -1.8025  1.1948]\n",
      " [-1.5361  0.4476 -0.5346]\n",
      " [-0.1413  1.3724  1.6142]\n",
      " [ 0.6057  0.5032  1.6545]\n",
      " [ 1.5487 -0.7261  0.8825]\n",
      " [-0.6514  1.251   1.0876]\n",
      " [ 0.9921  0.2907 -0.8282]\n",
      " [-1.2011  1.2722 -0.0041]\n",
      " [-0.691  -0.5437 -0.2142]\n",
      " [ 1.6533  0.6108  1.3051]\n",
      " [ 0.1591 -0.3709  0.2787]\n",
      " [ 1.3049  1.4879 -1.4523]\n",
      " [ 1.168  -1.6162 -1.091 ]\n",
      " [-0.0894  1.1069 -0.0815]\n",
      " [-0.9411 -0.5773  0.1667]\n",
      " [-0.9386 -0.1111 -1.1545]\n",
      " [-1.7622 -0.9347  1.1997]\n",
      " [-1.6735 -0.5466  1.2484]\n",
      " [ 1.6553 -1.6754 -0.9093]\n",
      " [-0.1478  1.1467 -0.6959]\n",
      " [-1.5704  0.0941  1.1805]\n",
      " [ 1.1817 -0.9865 -0.9771]\n",
      " [ 0.1071  1.6865 -1.448 ]\n",
      " [-0.8201  0.9277 -0.8997]\n",
      " [-0.3781 -1.7405 -1.0466]\n",
      " [-1.3144 -1.5489 -1.1618]\n",
      " [ 0.1921  1.1871 -0.6348]\n",
      " [-0.4289  0.1647 -1.3645]\n",
      " [-0.1151  0.6966 -0.702 ]\n",
      " [ 0.4442  0.6111 -0.4958]\n",
      " [ 0.2302 -0.6956 -0.8512]\n",
      " [ 0.6942  0.1784 -1.0626]\n",
      " [ 0.9516  1.4228 -0.2744]\n",
      " [-0.3265 -1.3273 -0.857 ]\n",
      " [ 1.1235  0.0187  0.636 ]\n",
      " [ 0.2271 -1.5425  0.4657]\n",
      " [-1.6627  1.1042 -0.5813]\n",
      " [-0.361  -0.3893 -1.0745]\n",
      " [-1.6448 -0.5366  1.4285]\n",
      " [ 0.4004  0.3231  0.2958]\n",
      " [-0.5599 -0.9395  1.4502]\n",
      " [ 1.1584  0.7439  0.5939]\n",
      " [ 1.0466 -1.245   1.3253]\n",
      " [-1.5105  1.2024 -0.7733]\n",
      " [-1.3331 -0.7524 -1.2524]\n",
      " [ 0.9336 -0.5566 -0.8732]\n",
      " [-0.8396 -0.9503  0.1261]\n",
      " [-0.6979 -0.6753 -0.9673]\n",
      " [ 0.8169  0.2979 -0.3765]\n",
      " [-1.2767 -0.1135 -0.9287]\n",
      " [ 1.1629 -1.8305 -1.4434]\n",
      " [ 0.5572 -0.1349 -1.3036]\n",
      " [-0.433  -0.7368 -0.1359]\n",
      " [-1.0712  1.2606 -0.5041]\n",
      " [-0.9327 -0.5102 -0.9405]\n",
      " [ 0.7575 -1.191   0.403 ]\n",
      " [ 0.625   0.9813  0.3824]\n",
      " [-1.6555 -1.5329  1.1407]\n",
      " [ 1.3635  0.3548  1.3999]\n",
      " [ 1.0723  1.0163  1.7229]\n",
      " [-1.2861  0.23   -0.3612]\n",
      " [-0.4232 -0.9616 -0.7238]]\n"
     ]
    }
   ],
   "source": [
    "meanofdata=np.mean(data,axis=0)\n",
    "stdofdata=np.std(data,axis=0)\n",
    "standardized_data=(data-meanofdata)/stdofdata\n",
    "print(standardized_data)"
   ]
  },
  {
   "cell_type": "code",
   "execution_count": 26,
   "id": "f676839e",
   "metadata": {
    "scrolled": true
   },
   "outputs": [
    {
     "name": "stdout",
     "output_type": "stream",
     "text": [
      "[[ 1.0101  0.0625  0.114 ]\n",
      " [ 0.0625  1.0101 -0.0256]\n",
      " [ 0.114  -0.0256  1.0101]]\n",
      "9\n",
      "(3, 3)\n"
     ]
    }
   ],
   "source": [
    "covariance_mat=np.cov(standardized_data,rowvar=False)\n",
    "print(covariance_mat)\n",
    "print(covariance_mat.size)\n",
    "print(covariance_mat.shape)"
   ]
  },
  {
   "cell_type": "code",
   "execution_count": 27,
   "id": "20fd0049",
   "metadata": {},
   "outputs": [],
   "source": [
    "eigenvalues,eigenvectors=np.linalg.eigh(covariance_mat)\n"
   ]
  },
  {
   "cell_type": "code",
   "execution_count": 28,
   "id": "ec144f1f",
   "metadata": {
    "scrolled": false
   },
   "outputs": [
    {
     "name": "stdout",
     "output_type": "stream",
     "text": [
      "[1.1307 1.0314 0.8682]\n",
      "[[ 0.73   -0.1114 -0.6743]\n",
      " [ 0.2425 -0.8802  0.408 ]\n",
      " [ 0.639   0.4614  0.6155]]\n"
     ]
    }
   ],
   "source": [
    "sorted_ind=np.argsort(eigenvalues)[::-1]\n",
    "eigenvalues=eigenvalues[sorted_ind]\n",
    "eigenvectors=eigenvectors[:,sorted_ind]\n",
    "print(eigenvalues)\n",
    "print(eigenvectors)"
   ]
  },
  {
   "cell_type": "code",
   "execution_count": 30,
   "id": "6883a149",
   "metadata": {
    "scrolled": false
   },
   "outputs": [
    {
     "name": "stdout",
     "output_type": "stream",
     "text": [
      "[[ 0.73   -0.1114]\n",
      " [ 0.2425 -0.8802]\n",
      " [ 0.639   0.4614]]\n"
     ]
    }
   ],
   "source": [
    "n=2\n",
    "selected_v=eigenvectors[:,:n]\n",
    "print(selected_v)"
   ]
  },
  {
   "cell_type": "code",
   "execution_count": 31,
   "id": "c744b83b",
   "metadata": {
    "scrolled": true
   },
   "outputs": [
    {
     "name": "stdout",
     "output_type": "stream",
     "text": [
      "[[ 1.1683  1.8014]\n",
      " [ 1.5972 -0.6572]\n",
      " [ 2.2524  0.3091]\n",
      " [ 0.5593  0.2175]\n",
      " [-1.6575  0.3064]\n",
      " [ 0.584   1.6701]\n",
      " [ 1.9142 -1.4113]\n",
      " [ 0.1766  0.1797]\n",
      " [ 0.3673  2.0028]\n",
      " [-0.2918  1.8475]\n",
      " [ 1.5215  0.0884]\n",
      " [-1.2583 -1.3789]\n",
      " [ 1.0996  0.7997]\n",
      " [-0.4398  1.0628]\n",
      " [ 0.5686 -0.7912]\n",
      " [ 0.2147 -0.5245]\n",
      " [ 1.0064 -0.5797]\n",
      " [-0.2899 -0.6163]\n",
      " [-1.6842 -1.0848]\n",
      " [-1.6118  0.5043]\n",
      " [ 1.9492  0.9543]\n",
      " [ 1.8485  0.7799]\n",
      " [-0.7496  0.3565]\n",
      " [ 0.5302 -0.7912]\n",
      " [-1.1873 -0.5491]\n",
      " [ 0.1904 -1.4881]\n",
      " [-0.0479 -1.1599]\n",
      " [ 0.0446 -0.7678]\n",
      " [ 0.8678 -1.7002]\n",
      " [-0.6653 -0.6879]\n",
      " [ 1.938  -0.1233]\n",
      " [-0.4968 -1.7214]\n",
      " [ 1.0226 -1.1295]\n",
      " [-1.5076  1.1724]\n",
      " [ 0.2435 -0.9507]\n",
      " [ 0.7844 -0.1968]\n",
      " [ 0.3221  1.4674]\n",
      " [ 0.0022  0.5865]\n",
      " [ 0.4173  2.1239]\n",
      " [-1.3544 -0.4694]\n",
      " [ 1.261  -0.4475]\n",
      " [ 1.6213  0.2529]\n",
      " [ 1.5184  0.8736]\n",
      " [ 0.5227 -0.5268]\n",
      " [ 0.2655 -0.7485]\n",
      " [-0.5709 -0.9879]\n",
      " [-0.7732  0.4567]\n",
      " [ 2.189  -0.1197]\n",
      " [ 0.2043  0.4373]\n",
      " [ 0.3854 -2.1251]\n",
      " [-0.2364  0.7891]\n",
      " [ 0.1511 -1.0019]\n",
      " [-0.7205  0.6899]\n",
      " [-1.4498 -0.3302]\n",
      " [-0.7465  1.5726]\n",
      " [-0.5566  1.2436]\n",
      " [ 0.2211  0.8707]\n",
      " [-0.2745 -1.3139]\n",
      " [-0.3693  0.6368]\n",
      " [-0.0009  0.2858]\n",
      " [-0.4381 -2.1644]\n",
      " [-0.9485 -1.1402]\n",
      " [-1.3668  1.0913]\n",
      " [-2.0774  0.9738]\n",
      " [ 0.0225 -1.3592]\n",
      " [-1.145  -0.7267]\n",
      " [-0.3637 -0.9242]\n",
      " [ 0.1557 -0.8161]\n",
      " [-0.5445  0.1939]\n",
      " [-0.1289 -0.7246]\n",
      " [ 0.8644 -1.485 ]\n",
      " [-1.1078  0.8093]\n",
      " [ 1.2311  0.1518]\n",
      " [ 0.0893  1.5473]\n",
      " [-1.3175 -1.0548]\n",
      " [-1.0445 -0.1129]\n",
      " [-0.4181  1.3147]\n",
      " [ 0.5597 -0.1925]\n",
      " [ 0.2901  1.5584]\n",
      " [ 1.4055 -0.5099]\n",
      " [ 1.309   1.5906]\n",
      " [-1.3052 -1.2467]\n",
      " [-1.9559  0.233 ]\n",
      " [-0.0114 -0.017 ]\n",
      " [-0.7628  0.9882]\n",
      " [-1.2913  0.2259]\n",
      " [ 0.428  -0.5269]\n",
      " [-1.5529 -0.1863]\n",
      " [-0.5172  0.8157]\n",
      " [-0.4589 -0.5448]\n",
      " [-0.5816  0.6341]\n",
      " [-0.7985 -1.2227]\n",
      " [-1.4056  0.1191]\n",
      " [ 0.5217  1.1498]\n",
      " [ 0.9386 -0.757 ]\n",
      " [-0.8514  2.0601]\n",
      " [ 1.9759  0.1816]\n",
      " [ 2.1301 -0.2191]\n",
      " [-1.1139 -0.2257]\n",
      " [-1.0046  0.5596]]\n"
     ]
    }
   ],
   "source": [
    "final=np.dot(standardized_data,selected_v)\n",
    "print(final)"
   ]
  },
  {
   "cell_type": "code",
   "execution_count": 32,
   "id": "b2b13d23",
   "metadata": {},
   "outputs": [
    {
     "data": {
      "image/png": "[encoded data removed]",
      "text/plain": [
       "<Figure size 640x480 with 1 Axes>"
      ]
     },
     "metadata": {},
     "output_type": "display_data"
    }
   ],
   "source": [
    "if n==2:\n",
    "    plt.scatter(final[:,0],final[:,1])\n",
    "    plt.xlabel(\"p1\")\n",
    "    plt.ylabel(\"p2\")\n",
    "    plt.show()"
   ]
  }
 ],
 "metadata": {
  "kernelspec": {
   "display_name": "Python 3 (ipykernel)",
   "language": "python",
   "name": "python3"
  },
  "language_info": {
   "codemirror_mode": {
    "name": "ipython",
    "version": 3
   },
   "file_extension": ".py",
   "mimetype": "text/x-python",
   "name": "python",
   "nbconvert_exporter": "python",
   "pygments_lexer": "ipython3",
   "version": "3.10.9"
  }
 },
 "nbformat": 4,
 "nbformat_minor": 5
}
